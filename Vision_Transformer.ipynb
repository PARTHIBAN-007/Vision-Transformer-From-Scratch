{
  "nbformat": 4,
  "nbformat_minor": 0,
  "metadata": {
    "colab": {
      "provenance": [],
      "authorship_tag": "ABX9TyOTLY4h01mH6mXYwhARKuu+",
      "include_colab_link": true
    },
    "kernelspec": {
      "name": "python3",
      "display_name": "Python 3"
    },
    "language_info": {
      "name": "python"
    }
  },
  "cells": [
    {
      "cell_type": "markdown",
      "metadata": {
        "id": "view-in-github",
        "colab_type": "text"
      },
      "source": [
        "<a href=\"https://colab.research.google.com/github/PARTHIBAN-007/Vision-Transformer-From-Scratch/blob/main/Vision_Transformer.ipynb\" target=\"_parent\"><img src=\"https://colab.research.google.com/assets/colab-badge.svg\" alt=\"Open In Colab\"/></a>"
      ]
    },
    {
      "cell_type": "code",
      "execution_count": 6,
      "metadata": {
        "id": "uBuqhKxIYnvo"
      },
      "outputs": [],
      "source": [
        "import torch\n",
        "import torchvision\n",
        "import torchvision.transforms as transforms\n",
        "import matplotlib.pyplot as plt\n",
        "import numpy as np\n",
        "import torch.nn as nn\n",
        "from torch.utils.data import DataLoader"
      ]
    },
    {
      "cell_type": "code",
      "source": [
        "batch_size = 64\n",
        "img_size = 28\n",
        "patch_size = 7\n",
        "num_channels = 1\n",
        "num_patches = (img_size//patch_size)**2\n",
        "num_heads = 1\n",
        "embed_dim = 16\n",
        "mlp_dim = 16\n",
        "transformer_units = 1\n",
        "\n",
        "transform = transforms.Compose(\n",
        "    [transforms.ToTensor()]\n",
        ")"
      ],
      "metadata": {
        "id": "3DRWVJFiY3hG"
      },
      "execution_count": 7,
      "outputs": []
    },
    {
      "cell_type": "code",
      "source": [
        "train_set =  torchvision.datasets.MNIST(root = \"./data\",train = True,download = True,transform = transform)\n",
        "val_set =  torchvision.datasets.MNIST(root = \"./data\",train = False,download = True,transform = transform)"
      ],
      "metadata": {
        "id": "nzLNoSOLZJZu"
      },
      "execution_count": 8,
      "outputs": []
    },
    {
      "cell_type": "code",
      "source": [
        "train_data = DataLoader(train_set,batch_size=batch_size,shuffle=True)\n",
        "val_data = DataLoader(val_set,batch_size=batch_size,shuffle=False)"
      ],
      "metadata": {
        "id": "iChzmm4LZh0G"
      },
      "execution_count": 9,
      "outputs": []
    },
    {
      "cell_type": "code",
      "source": [
        "from huggingface_hub import PyTorchModelHubMixin\n",
        "\n",
        "\n",
        "class PatchEmbedding(nn.Module,PyTorchModelHubMixin):\n",
        "  def __init__(self):\n",
        "    super().__init__()\n",
        "    self.patch_embed = nn.Conv2d(num_channels,embed_dim, kernel_size=patch_size,stride = patch_size)\n",
        "\n",
        "  def forward(self,x):\n",
        "    x = self.patch_embed(x)\n",
        "    x = x.flatten(2)\n",
        "    x = x.transpose(1,2)\n",
        "    return x"
      ],
      "metadata": {
        "id": "uMczQ02nZ2Ha"
      },
      "execution_count": 10,
      "outputs": []
    },
    {
      "cell_type": "code",
      "source": [
        "\n",
        "class TransformerArchitecture(nn.Module,PyTorchModelHubMixin):\n",
        "  def __init__(self):\n",
        "    super().__init__()\n",
        "    self.layer_norm1 = nn.LayerNorm(embed_dim)\n",
        "    self.self_attention = nn.MultiheadAttention(embed_dim,num_heads,batch_first = True)\n",
        "    self.layer_norm2 = nn.LayerNorm(embed_dim)\n",
        "    self.multi_layer_preceptron = nn.Sequential(\n",
        "        nn.Linear(embed_dim,mlp_dim),\n",
        "        nn.GELU(),\n",
        "        nn.Linear(mlp_dim,embed_dim)\n",
        "    )\n",
        "\n",
        "  def forward(self,x):\n",
        "    residual_1 = x\n",
        "    attention_output = self.self_attention(self.layer_norm1(x),self.layer_norm1(x),self.layer_norm1(x))[0]\n",
        "    x = attention_output + residual_1\n",
        "    residual_2 = x\n",
        "    mlp_output = self.multi_layer_preceptron(self.layer_norm2(x))\n",
        "    x = mlp_output + residual_2\n",
        "    return x"
      ],
      "metadata": {
        "id": "Eas8VdmyaR7C"
      },
      "execution_count": 11,
      "outputs": []
    },
    {
      "cell_type": "code",
      "source": [
        "\n",
        "class VisionTransformer(nn.Module, PyTorchModelHubMixin):\n",
        "  def __init__(self):\n",
        "    super().__init__()\n",
        "    self.patch_embedding = PatchEmbedding()\n",
        "    self.cls_token = nn.Parameter(torch.randn(1,1,embed_dim))\n",
        "    self.pos_embed = nn.Parameter(torch.randn(1,(img_size//patch_size)**2 + 1, embed_dim))\n",
        "    self.transformer_layers = nn.Sequential(\n",
        "        *[TransformerArchitecture() for _ in range(transformer_units)]\n",
        "    )\n",
        "\n",
        "    self.mlp_head = nn.Sequential(\n",
        "        nn.LayerNorm(embed_dim),\n",
        "        nn.Linear(embed_dim,10)\n",
        "    )\n",
        "\n",
        "  def forward(self,x):\n",
        "    x = self.patch_embedding(x)\n",
        "    B = x.size(0)\n",
        "\n",
        "    cls_tokens = self.cls_token.expand(B,-1,-1)\n",
        "    x = torch.cat((cls_tokens,x),dim=1)\n",
        "    x = x + self.pos_embed\n",
        "    x = self.transformer_layers(x)\n",
        "    x = x[:,0]\n",
        "    x = self.mlp_head(x)\n",
        "    return x"
      ],
      "metadata": {
        "id": "bzRgIggobhyb"
      },
      "execution_count": 12,
      "outputs": []
    },
    {
      "cell_type": "code",
      "source": [
        "device = torch.device(\"cuda\" if torch.cuda.is_available() else \"cpu\")\n",
        "model = VisionTransformer().to(device)\n",
        "optimizer = torch.optim.Adam(model.parameters(),lr=0.01)\n",
        "criterion = nn.CrossEntropyLoss()"
      ],
      "metadata": {
        "id": "zCFxPb5vc9UM"
      },
      "execution_count": 13,
      "outputs": []
    },
    {
      "cell_type": "code",
      "source": [
        "for epoch in range(10):\n",
        "  model.train()\n",
        "  total_loss = 0\n",
        "  correct_epoch = 0\n",
        "  total_epoch = 0\n",
        "  print(f\"Epoch : {epoch+1}\")\n",
        "\n",
        "  for batch_idx, (images,labels) in enumerate(train_data):\n",
        "    images,labels = images.to(device), labels.to(device)\n",
        "    optimizer.zero_grad()\n",
        "    outputs = model(images)\n",
        "\n",
        "    loss = criterion(outputs,labels)\n",
        "    loss.backward()\n",
        "    optimizer.step()\n",
        "\n",
        "    total_loss += loss.item()\n",
        "    preds = outputs.argmax(dim=1)\n",
        "\n",
        "    correct = (preds==labels).sum().item()\n",
        "    accuracy = 100.0 * correct / labels.size(0)\n",
        "\n",
        "    correct_epoch += correct\n",
        "    total_epoch += labels.size(0)\n",
        "\n",
        "    if batch_idx%100==0:\n",
        "      print(f\"Batch {batch_idx+1} : Loss = {loss.item():.4f}, Accuracy : {accuracy:.2f}\")\n",
        "  epoch_acc = 100.0 * correct_epoch /total_epoch\n",
        "  print(f\"Epoch {epoch+1}  Summary : Total Loss : {total_loss:.4f}, Accuracy = {epoch_acc:.2f}\")\n",
        "\n",
        "\n",
        "\n",
        "\n"
      ],
      "metadata": {
        "id": "ou9DgQTykoTE",
        "colab": {
          "base_uri": "https://localhost:8080/"
        },
        "outputId": "f04637bc-09e2-4ab8-e7e5-fff5ad270741"
      },
      "execution_count": 14,
      "outputs": [
        {
          "output_type": "stream",
          "name": "stdout",
          "text": [
            "Epoch : 1\n",
            "Batch 1 : Loss = 2.4054, Accuracy : 15.62\n",
            "Batch 101 : Loss = 1.4692, Accuracy : 46.88\n",
            "Batch 201 : Loss = 1.5063, Accuracy : 50.00\n",
            "Batch 301 : Loss = 0.8503, Accuracy : 71.88\n",
            "Batch 401 : Loss = 1.0038, Accuracy : 68.75\n",
            "Batch 501 : Loss = 1.0474, Accuracy : 60.94\n",
            "Batch 601 : Loss = 0.7516, Accuracy : 71.88\n",
            "Batch 701 : Loss = 0.8343, Accuracy : 68.75\n",
            "Batch 801 : Loss = 0.7792, Accuracy : 76.56\n",
            "Batch 901 : Loss = 0.7022, Accuracy : 76.56\n",
            "Epoch 1  Summary : Total Loss : 922.4587, Accuracy = 65.46\n",
            "Epoch : 2\n",
            "Batch 1 : Loss = 0.7427, Accuracy : 70.31\n",
            "Batch 101 : Loss = 0.8560, Accuracy : 75.00\n",
            "Batch 201 : Loss = 0.8628, Accuracy : 68.75\n",
            "Batch 301 : Loss = 0.7587, Accuracy : 73.44\n",
            "Batch 401 : Loss = 0.5488, Accuracy : 85.94\n",
            "Batch 501 : Loss = 0.4491, Accuracy : 81.25\n",
            "Batch 601 : Loss = 0.5764, Accuracy : 79.69\n",
            "Batch 701 : Loss = 0.3889, Accuracy : 87.50\n",
            "Batch 801 : Loss = 0.7680, Accuracy : 79.69\n",
            "Batch 901 : Loss = 0.6109, Accuracy : 76.56\n",
            "Epoch 2  Summary : Total Loss : 531.2413, Accuracy = 81.44\n",
            "Epoch : 3\n",
            "Batch 1 : Loss = 0.5859, Accuracy : 76.56\n",
            "Batch 101 : Loss = 0.4803, Accuracy : 82.81\n",
            "Batch 201 : Loss = 0.4904, Accuracy : 87.50\n",
            "Batch 301 : Loss = 0.4180, Accuracy : 89.06\n",
            "Batch 401 : Loss = 0.5029, Accuracy : 85.94\n",
            "Batch 501 : Loss = 0.4897, Accuracy : 82.81\n",
            "Batch 601 : Loss = 0.5729, Accuracy : 81.25\n",
            "Batch 701 : Loss = 0.5250, Accuracy : 81.25\n",
            "Batch 801 : Loss = 0.4466, Accuracy : 85.94\n",
            "Batch 901 : Loss = 0.2788, Accuracy : 90.62\n",
            "Epoch 3  Summary : Total Loss : 421.4474, Accuracy = 85.67\n",
            "Epoch : 4\n",
            "Batch 1 : Loss = 0.7763, Accuracy : 81.25\n",
            "Batch 101 : Loss = 0.3564, Accuracy : 89.06\n",
            "Batch 201 : Loss = 0.4013, Accuracy : 92.19\n",
            "Batch 301 : Loss = 0.3242, Accuracy : 93.75\n",
            "Batch 401 : Loss = 0.3316, Accuracy : 90.62\n",
            "Batch 501 : Loss = 0.4340, Accuracy : 90.62\n",
            "Batch 601 : Loss = 0.2204, Accuracy : 93.75\n",
            "Batch 701 : Loss = 0.5100, Accuracy : 84.38\n",
            "Batch 801 : Loss = 0.5160, Accuracy : 84.38\n",
            "Batch 901 : Loss = 0.3698, Accuracy : 87.50\n",
            "Epoch 4  Summary : Total Loss : 383.9462, Accuracy = 86.96\n",
            "Epoch : 5\n",
            "Batch 1 : Loss = 0.5101, Accuracy : 84.38\n",
            "Batch 101 : Loss = 0.3885, Accuracy : 89.06\n",
            "Batch 201 : Loss = 0.4272, Accuracy : 87.50\n",
            "Batch 301 : Loss = 0.3325, Accuracy : 90.62\n",
            "Batch 401 : Loss = 0.4380, Accuracy : 82.81\n",
            "Batch 501 : Loss = 0.2362, Accuracy : 93.75\n",
            "Batch 601 : Loss = 0.2330, Accuracy : 95.31\n",
            "Batch 701 : Loss = 0.2895, Accuracy : 92.19\n",
            "Batch 801 : Loss = 0.4542, Accuracy : 89.06\n",
            "Batch 901 : Loss = 0.3626, Accuracy : 89.06\n",
            "Epoch 5  Summary : Total Loss : 369.3609, Accuracy = 87.50\n",
            "Epoch : 6\n",
            "Batch 1 : Loss = 0.4235, Accuracy : 89.06\n",
            "Batch 101 : Loss = 0.4588, Accuracy : 85.94\n",
            "Batch 201 : Loss = 0.4756, Accuracy : 84.38\n",
            "Batch 301 : Loss = 0.2850, Accuracy : 90.62\n",
            "Batch 401 : Loss = 0.6755, Accuracy : 79.69\n",
            "Batch 501 : Loss = 0.3433, Accuracy : 84.38\n",
            "Batch 601 : Loss = 0.4196, Accuracy : 90.62\n",
            "Batch 701 : Loss = 0.3790, Accuracy : 90.62\n",
            "Batch 801 : Loss = 0.3237, Accuracy : 85.94\n",
            "Batch 901 : Loss = 0.4339, Accuracy : 84.38\n",
            "Epoch 6  Summary : Total Loss : 352.6463, Accuracy = 88.03\n",
            "Epoch : 7\n",
            "Batch 1 : Loss = 0.3471, Accuracy : 93.75\n",
            "Batch 101 : Loss = 0.3858, Accuracy : 87.50\n",
            "Batch 201 : Loss = 0.2611, Accuracy : 95.31\n",
            "Batch 301 : Loss = 0.3193, Accuracy : 89.06\n",
            "Batch 401 : Loss = 0.5115, Accuracy : 82.81\n",
            "Batch 501 : Loss = 0.2998, Accuracy : 90.62\n",
            "Batch 601 : Loss = 0.5762, Accuracy : 82.81\n",
            "Batch 701 : Loss = 0.3664, Accuracy : 87.50\n",
            "Batch 801 : Loss = 0.3155, Accuracy : 89.06\n",
            "Batch 901 : Loss = 0.2530, Accuracy : 95.31\n",
            "Epoch 7  Summary : Total Loss : 340.6801, Accuracy = 88.62\n",
            "Epoch : 8\n",
            "Batch 1 : Loss = 0.3656, Accuracy : 90.62\n",
            "Batch 101 : Loss = 0.5833, Accuracy : 78.12\n",
            "Batch 201 : Loss = 0.2395, Accuracy : 92.19\n",
            "Batch 301 : Loss = 0.2780, Accuracy : 90.62\n",
            "Batch 401 : Loss = 0.1841, Accuracy : 96.88\n",
            "Batch 501 : Loss = 0.5374, Accuracy : 82.81\n",
            "Batch 601 : Loss = 0.3243, Accuracy : 87.50\n",
            "Batch 701 : Loss = 0.5250, Accuracy : 85.94\n",
            "Batch 801 : Loss = 0.3097, Accuracy : 87.50\n",
            "Batch 901 : Loss = 0.4418, Accuracy : 85.94\n",
            "Epoch 8  Summary : Total Loss : 333.0478, Accuracy = 88.66\n",
            "Epoch : 9\n",
            "Batch 1 : Loss = 0.2278, Accuracy : 93.75\n",
            "Batch 101 : Loss = 0.6382, Accuracy : 82.81\n",
            "Batch 201 : Loss = 0.2202, Accuracy : 90.62\n",
            "Batch 301 : Loss = 0.2065, Accuracy : 93.75\n",
            "Batch 401 : Loss = 0.5115, Accuracy : 89.06\n",
            "Batch 501 : Loss = 0.3780, Accuracy : 85.94\n",
            "Batch 601 : Loss = 0.3994, Accuracy : 92.19\n",
            "Batch 701 : Loss = 0.3893, Accuracy : 87.50\n",
            "Batch 801 : Loss = 0.4967, Accuracy : 87.50\n",
            "Batch 901 : Loss = 0.1912, Accuracy : 93.75\n",
            "Epoch 9  Summary : Total Loss : 325.8525, Accuracy = 88.89\n",
            "Epoch : 10\n",
            "Batch 1 : Loss = 0.1836, Accuracy : 93.75\n",
            "Batch 101 : Loss = 0.3220, Accuracy : 87.50\n",
            "Batch 201 : Loss = 0.3183, Accuracy : 93.75\n",
            "Batch 301 : Loss = 0.3896, Accuracy : 92.19\n",
            "Batch 401 : Loss = 0.6648, Accuracy : 81.25\n",
            "Batch 501 : Loss = 0.4374, Accuracy : 82.81\n",
            "Batch 601 : Loss = 0.2251, Accuracy : 93.75\n",
            "Batch 701 : Loss = 0.2244, Accuracy : 93.75\n",
            "Batch 801 : Loss = 0.1683, Accuracy : 93.75\n",
            "Batch 901 : Loss = 0.3365, Accuracy : 89.06\n",
            "Epoch 10  Summary : Total Loss : 323.3896, Accuracy = 89.11\n"
          ]
        }
      ]
    },
    {
      "cell_type": "code",
      "source": [
        "model.eval()\n",
        "correct = 0\n",
        "total = 0\n",
        "\n",
        "with torch.no_grad():\n",
        "  for images,labels in val_data:\n",
        "    images, labels = images.to(device) , labels.to(device)\n",
        "    outputs = model(images)\n",
        "    preds = outputs.argmax(dim=1)\n",
        "    correct += (preds==labels).sum().item()\n",
        "    total += labels.size(0)\n",
        "  val_acc = 100.0 * correct/total\n",
        "  print(f\"Validation Accuracy: { val_acc:.2f}\")\n",
        "\n"
      ],
      "metadata": {
        "id": "rG4GvEZFmVi3",
        "colab": {
          "base_uri": "https://localhost:8080/"
        },
        "outputId": "77bebd30-efd8-4a8c-96af-69dea95ff3fc"
      },
      "execution_count": 15,
      "outputs": [
        {
          "output_type": "stream",
          "name": "stdout",
          "text": [
            "Validation Accuracy: 89.65\n"
          ]
        }
      ]
    },
    {
      "cell_type": "code",
      "source": [
        "model.eval()\n",
        "images , labels = next(iter(val_data))\n",
        "images, labels = images.to(device) , labels.to(device)\n",
        "\n",
        "with torch.no_grad():\n",
        "  outputs = model(images)\n",
        "  preds = outputs.argmax(dim=1)\n",
        "\n",
        "\n",
        "plt.figure(figsize = (12,4))\n",
        "for i in range(20):\n",
        "  plt.subplot(4,5,i+1)\n",
        "  plt.imshow(images[i].squeeze(),cmap = \"grey\")\n",
        "  plt.title(f\"Pred: {preds[i].item()}\\n True: {labels[i].item()}\")\n",
        "  plt.axis(\"off\")\n",
        "plt.tight_layout()\n",
        "plt.show()"
      ],
      "metadata": {
        "id": "Df1wEk0xnB5c",
        "colab": {
          "base_uri": "https://localhost:8080/",
          "height": 407
        },
        "outputId": "ff0aceca-545f-45f3-ec69-e15780900237"
      },
      "execution_count": 16,
      "outputs": [
        {
          "output_type": "display_data",
          "data": {
            "text/plain": [
              "<Figure size 1200x400 with 20 Axes>"
            ],
            "image/png": "[encoded data removed]"
          },
          "metadata": {}
        }
      ]
    },
    {
      "cell_type": "code",
      "source": [
        "# Manual Checking of Image Transformations in the Vision transformer\n",
        "\n",
        "images , labels= next(iter(val_data))\n",
        "print(f\"Shape of the image data in batch : {images.shape}\")\n",
        "patch_embed = nn.Conv2d(num_channels,embed_dim,kernel_size=patch_size,stride = patch_size)\n",
        "embedded_data = patch_embed(images)\n",
        "embedded_data = embedded_data.flatten(2)\n",
        "embedded_data = embedded_data.transpose(1,2)\n",
        "print(f\"shape of Embedded Data:  {embedded_data.shape}\")\n",
        "print(torch.randn(1,1,embed_dim).shape)"
      ],
      "metadata": {
        "id": "QLOvRNZ8nwtu",
        "colab": {
          "base_uri": "https://localhost:8080/"
        },
        "outputId": "12f638b6-a30d-4f93-91b1-fc02d814ff83"
      },
      "execution_count": 17,
      "outputs": [
        {
          "output_type": "stream",
          "name": "stdout",
          "text": [
            "Shape of the image data in batch : torch.Size([64, 1, 28, 28])\n",
            "shape of Embedded Data:  torch.Size([64, 16, 16])\n",
            "torch.Size([1, 1, 16])\n"
          ]
        }
      ]
    },
    {
      "cell_type": "code",
      "metadata": {
        "colab": {
          "base_uri": "https://localhost:8080/"
        },
        "id": "c96429f2",
        "outputId": "1c28edef-acc2-4b03-d6b3-2081f31c2cd6"
      },
      "source": [
        "print(f\"Batch Size: {batch_size}\")\n",
        "print(f\"Image Size: {img_size}\")\n",
        "print(f\"Patch Size: {patch_size}\")\n",
        "print(f\"Number of Channels: {num_channels}\")\n",
        "print(f\"Number of Patches: {num_patches}\")\n",
        "print(f\"Number of Heads: {num_heads}\")\n",
        "print(f\"Embedding Dimension: {embed_dim}\")\n",
        "print(f\"MLP Dimension: {mlp_dim}\")\n",
        "print(f\"Number of Transformer Units: {transformer_units}\")"
      ],
      "execution_count": 18,
      "outputs": [
        {
          "output_type": "stream",
          "name": "stdout",
          "text": [
            "Batch Size: 64\n",
            "Image Size: 28\n",
            "Patch Size: 7\n",
            "Number of Channels: 1\n",
            "Number of Patches: 16\n",
            "Number of Heads: 1\n",
            "Embedding Dimension: 16\n",
            "MLP Dimension: 16\n",
            "Number of Transformer Units: 1\n"
          ]
        }
      ]
    },
    {
      "cell_type": "code",
      "source": [
        "# from huggingface_hub import notebook_login\n",
        "# notebook_login()"
      ],
      "metadata": {
        "id": "mG0Z1anoGukf"
      },
      "execution_count": 19,
      "outputs": []
    },
    {
      "cell_type": "code",
      "source": [
        "# repo_id = \"Parthiban007/VisionTransformer\"\n",
        "\n",
        "# model.push_to_hub(repo_id)\n",
        "\n",
        "# print(f\"Model successfully pushed to https://huggingface.co/{repo_id}\")"
      ],
      "metadata": {
        "id": "O604Wtm7-4mL"
      },
      "execution_count": 20,
      "outputs": []
    }
  ]
}