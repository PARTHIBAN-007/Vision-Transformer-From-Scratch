{
  "nbformat": 4,
  "nbformat_minor": 0,
  "metadata": {
    "colab": {
      "provenance": [],
      "authorship_tag": "ABX9TyOEBFLIpoUIHG8uyW/16oHa",
      "include_colab_link": true
    },
    "kernelspec": {
      "name": "python3",
      "display_name": "Python 3"
    },
    "language_info": {
      "name": "python"
    }
  },
  "cells": [
    {
      "cell_type": "markdown",
      "metadata": {
        "id": "view-in-github",
        "colab_type": "text"
      },
      "source": [
        "<a href=\"https://colab.research.google.com/github/PARTHIBAN-007/Vision-Transformer-From-Scratch/blob/main/Vision_Transformer.ipynb\" target=\"_parent\"><img src=\"https://colab.research.google.com/assets/colab-badge.svg\" alt=\"Open In Colab\"/></a>"
      ]
    },
    {
      "cell_type": "code",
      "execution_count": 83,
      "metadata": {
        "id": "uBuqhKxIYnvo"
      },
      "outputs": [],
      "source": [
        "import torch\n",
        "import torchvision\n",
        "import torchvision.transforms as transforms\n",
        "import matplotlib.pyplot as plt\n",
        "import numpy as np\n",
        "import torch.nn as nn\n",
        "from torch.utils.data import DataLoader"
      ]
    },
    {
      "cell_type": "code",
      "source": [
        "batch_size = 64\n",
        "img_size = 28\n",
        "patch_size = 7\n",
        "num_channels = 1\n",
        "num_patches = (img_size//patch_size)**2\n",
        "num_heads = 1\n",
        "embed_dim = 16\n",
        "mlp_dim = 16\n",
        "transformer_units = 1\n",
        "\n",
        "transform = transforms.Compose(\n",
        "    [transforms.ToTensor()]\n",
        ")"
      ],
      "metadata": {
        "id": "3DRWVJFiY3hG"
      },
      "execution_count": 84,
      "outputs": []
    },
    {
      "cell_type": "code",
      "source": [
        "train_set =  torchvision.datasets.MNIST(root = \"./data\",train = True,download = True,transform = transform)\n",
        "val_set =  torchvision.datasets.MNIST(root = \"./data\",train = False,download = True,transform = transform)"
      ],
      "metadata": {
        "id": "nzLNoSOLZJZu"
      },
      "execution_count": 85,
      "outputs": []
    },
    {
      "cell_type": "code",
      "source": [
        "train_data = DataLoader(train_set,batch_size=batch_size,shuffle=True)\n",
        "val_data = DataLoader(val_set,batch_size=batch_size,shuffle=False)"
      ],
      "metadata": {
        "id": "iChzmm4LZh0G"
      },
      "execution_count": 86,
      "outputs": []
    },
    {
      "cell_type": "code",
      "source": [
        "class PatchEmbedding(nn.Module):\n",
        "  def __init__(self):\n",
        "    super().__init__()\n",
        "    self.patch_embed = nn.Conv2d(num_channels,embed_dim, kernel_size=patch_size,stride = patch_size)\n",
        "\n",
        "  def forward(self,x):\n",
        "    x = self.patch_embed(x)\n",
        "    x = x.flatten(2)\n",
        "    x = x.transpose(1,2)\n",
        "    return x"
      ],
      "metadata": {
        "id": "uMczQ02nZ2Ha"
      },
      "execution_count": 87,
      "outputs": []
    },
    {
      "cell_type": "code",
      "source": [
        "class TransformerArchitecture(nn.Module):\n",
        "  def __init__(self):\n",
        "    super().__init__()\n",
        "    self.layer_norm1 = nn.LayerNorm(embed_dim)\n",
        "    self.self_attention = nn.MultiheadAttention(embed_dim,num_heads,batch_first = True)\n",
        "    self.layer_norm2 = nn.LayerNorm(embed_dim)\n",
        "    self.multi_layer_preceptron = nn.Sequential(\n",
        "        nn.Linear(embed_dim,mlp_dim),\n",
        "        nn.GELU(),\n",
        "        nn.Linear(mlp_dim,embed_dim)\n",
        "    )\n",
        "\n",
        "  def forward(self,x):\n",
        "    residual_1 = x\n",
        "    attention_output = self.self_attention(self.layer_norm1(x),self.layer_norm1(x),self.layer_norm1(x))[0]\n",
        "    x = attention_output + residual_1\n",
        "    residual_2 = x\n",
        "    mlp_output = self.multi_layer_preceptron(self.layer_norm2(x))\n",
        "    x = mlp_output + residual_2\n",
        "    return x"
      ],
      "metadata": {
        "id": "Eas8VdmyaR7C"
      },
      "execution_count": 88,
      "outputs": []
    },
    {
      "cell_type": "code",
      "source": [
        "class VisionTransformer(nn.Module):\n",
        "  def __init__(self):\n",
        "    super().__init__()\n",
        "    self.patch_embedding = PatchEmbedding()\n",
        "    self.cls_token = nn.Parameter(torch.randn(1,1,embed_dim))\n",
        "    self.pos_embed = nn.Parameter(torch.randn(1,(img_size//patch_size)**2 + 1, embed_dim))\n",
        "    self.transformer_layers = nn.Sequential(\n",
        "        *[TransformerArchitecture() for _ in range(transformer_units)]\n",
        "    )\n",
        "\n",
        "    self.mlp_head = nn.Sequential(\n",
        "        nn.LayerNorm(embed_dim),\n",
        "        nn.Linear(embed_dim,10)\n",
        "    )\n",
        "\n",
        "  def forward(self,x):\n",
        "    x = self.patch_embedding(x)\n",
        "    B = x.size(0)\n",
        "\n",
        "    cls_tokens = self.cls_token.expand(B,-1,-1)\n",
        "    x = torch.cat((cls_tokens,x),dim=1)\n",
        "    x = x + self.pos_embed\n",
        "    x = self.transformer_layers(x)\n",
        "    x = x[:,0]\n",
        "    x = self.mlp_head(x)\n",
        "    return x\n"
      ],
      "metadata": {
        "id": "bzRgIggobhyb"
      },
      "execution_count": 89,
      "outputs": []
    },
    {
      "cell_type": "code",
      "source": [
        "device = torch.device(\"cuda\" if torch.cuda.is_available() else \"cpu\")\n",
        "model = VisionTransformer().to(device)\n",
        "optimizer = torch.optim.Adam(model.parameters(),lr=0.01)\n",
        "criterion = nn.CrossEntropyLoss()"
      ],
      "metadata": {
        "id": "zCFxPb5vc9UM"
      },
      "execution_count": 90,
      "outputs": []
    },
    {
      "cell_type": "code",
      "source": [
        "for epoch in range(10):\n",
        "  model.train()\n",
        "  total_loss = 0\n",
        "  correct_epoch = 0\n",
        "  total_epoch = 0\n",
        "  print(f\"Epoch : {epoch+1}\")\n",
        "\n",
        "  for batch_idx, (images,labels) in enumerate(train_data):\n",
        "    images,labels = images.to(device), labels.to(device)\n",
        "    optimizer.zero_grad()\n",
        "    outputs = model(images)\n",
        "\n",
        "    loss = criterion(outputs,labels)\n",
        "    loss.backward()\n",
        "    optimizer.step()\n",
        "\n",
        "    total_loss += loss.item()\n",
        "    preds = outputs.argmax(dim=1)\n",
        "\n",
        "    correct = (preds==labels).sum().item()\n",
        "    accuracy = 100.0 * correct / labels.size(0)\n",
        "\n",
        "    correct_epoch += correct\n",
        "    total_epoch += labels.size(0)\n",
        "\n",
        "    if batch_idx%100==0:\n",
        "      print(f\"Batch {batch_idx+1} : Loss = {loss.item():.4f}, Accuracy : {accuracy:.2f}\")\n",
        "  epoch_acc = 100.0 * correct_epoch /total_epoch\n",
        "  print(f\"Epoch {epoch+1}  Summary : Total Loss : {total_loss:.4f}, Accuracy = {epoch_acc:.2f}\")\n",
        "\n",
        "\n",
        "\n",
        "\n"
      ],
      "metadata": {
        "id": "ou9DgQTykoTE",
        "colab": {
          "base_uri": "https://localhost:8080/"
        },
        "outputId": "32793460-378c-4d34-916c-c761ebff21af"
      },
      "execution_count": 91,
      "outputs": [
        {
          "output_type": "stream",
          "name": "stdout",
          "text": [
            "Epoch : 1\n",
            "Batch 1 : Loss = 2.3869, Accuracy : 4.69\n",
            "Batch 101 : Loss = 1.2741, Accuracy : 57.81\n",
            "Batch 201 : Loss = 0.9464, Accuracy : 70.31\n",
            "Batch 301 : Loss = 0.9103, Accuracy : 70.31\n",
            "Batch 401 : Loss = 0.8190, Accuracy : 68.75\n",
            "Batch 501 : Loss = 0.7707, Accuracy : 79.69\n",
            "Batch 601 : Loss = 0.5774, Accuracy : 79.69\n",
            "Batch 701 : Loss = 0.7921, Accuracy : 73.44\n",
            "Batch 801 : Loss = 0.4876, Accuracy : 87.50\n",
            "Batch 901 : Loss = 0.3755, Accuracy : 87.50\n",
            "Epoch 1  Summary : Total Loss : 710.6382, Accuracy = 74.40\n",
            "Epoch : 2\n",
            "Batch 1 : Loss = 0.5290, Accuracy : 82.81\n",
            "Batch 101 : Loss = 0.2420, Accuracy : 92.19\n",
            "Batch 201 : Loss = 0.5729, Accuracy : 81.25\n",
            "Batch 301 : Loss = 0.3320, Accuracy : 89.06\n",
            "Batch 401 : Loss = 0.5156, Accuracy : 85.94\n",
            "Batch 501 : Loss = 0.4065, Accuracy : 87.50\n",
            "Batch 601 : Loss = 0.6431, Accuracy : 78.12\n",
            "Batch 701 : Loss = 0.4380, Accuracy : 85.94\n",
            "Batch 801 : Loss = 0.3259, Accuracy : 87.50\n",
            "Batch 901 : Loss = 0.4411, Accuracy : 85.94\n",
            "Epoch 2  Summary : Total Loss : 424.7512, Accuracy = 85.26\n",
            "Epoch : 3\n",
            "Batch 1 : Loss = 0.3503, Accuracy : 92.19\n",
            "Batch 101 : Loss = 0.2511, Accuracy : 89.06\n",
            "Batch 201 : Loss = 0.2735, Accuracy : 93.75\n",
            "Batch 301 : Loss = 0.2376, Accuracy : 93.75\n",
            "Batch 401 : Loss = 0.4199, Accuracy : 87.50\n",
            "Batch 501 : Loss = 0.4307, Accuracy : 87.50\n",
            "Batch 601 : Loss = 0.4189, Accuracy : 85.94\n",
            "Batch 701 : Loss = 0.3059, Accuracy : 95.31\n",
            "Batch 801 : Loss = 0.3939, Accuracy : 87.50\n",
            "Batch 901 : Loss = 0.5895, Accuracy : 82.81\n",
            "Epoch 3  Summary : Total Loss : 354.7348, Accuracy = 87.87\n",
            "Epoch : 4\n",
            "Batch 1 : Loss = 0.2259, Accuracy : 87.50\n",
            "Batch 101 : Loss = 0.4592, Accuracy : 85.94\n",
            "Batch 201 : Loss = 0.2803, Accuracy : 92.19\n",
            "Batch 301 : Loss = 0.4335, Accuracy : 87.50\n",
            "Batch 401 : Loss = 0.2707, Accuracy : 92.19\n",
            "Batch 501 : Loss = 0.3391, Accuracy : 92.19\n",
            "Batch 601 : Loss = 0.5130, Accuracy : 81.25\n",
            "Batch 701 : Loss = 0.3766, Accuracy : 82.81\n",
            "Batch 801 : Loss = 0.2438, Accuracy : 90.62\n",
            "Batch 901 : Loss = 0.4119, Accuracy : 85.94\n",
            "Epoch 4  Summary : Total Loss : 330.8071, Accuracy = 88.60\n",
            "Epoch : 5\n",
            "Batch 1 : Loss = 0.2916, Accuracy : 90.62\n",
            "Batch 101 : Loss = 0.4557, Accuracy : 85.94\n",
            "Batch 201 : Loss = 0.3540, Accuracy : 89.06\n",
            "Batch 301 : Loss = 0.2140, Accuracy : 93.75\n",
            "Batch 401 : Loss = 0.3479, Accuracy : 89.06\n",
            "Batch 501 : Loss = 0.1049, Accuracy : 100.00\n",
            "Batch 601 : Loss = 0.1886, Accuracy : 92.19\n",
            "Batch 701 : Loss = 0.2481, Accuracy : 90.62\n",
            "Batch 801 : Loss = 0.1489, Accuracy : 92.19\n",
            "Batch 901 : Loss = 0.4888, Accuracy : 82.81\n",
            "Epoch 5  Summary : Total Loss : 309.6293, Accuracy = 89.40\n",
            "Epoch : 6\n",
            "Batch 1 : Loss = 0.3112, Accuracy : 92.19\n",
            "Batch 101 : Loss = 0.2308, Accuracy : 92.19\n",
            "Batch 201 : Loss = 0.4018, Accuracy : 89.06\n",
            "Batch 301 : Loss = 0.2893, Accuracy : 89.06\n",
            "Batch 401 : Loss = 0.1918, Accuracy : 92.19\n",
            "Batch 501 : Loss = 0.4129, Accuracy : 89.06\n",
            "Batch 601 : Loss = 0.2702, Accuracy : 87.50\n",
            "Batch 701 : Loss = 0.1592, Accuracy : 95.31\n",
            "Batch 801 : Loss = 0.2736, Accuracy : 93.75\n",
            "Batch 901 : Loss = 0.2403, Accuracy : 93.75\n",
            "Epoch 6  Summary : Total Loss : 295.1400, Accuracy = 89.89\n",
            "Epoch : 7\n",
            "Batch 1 : Loss = 0.1884, Accuracy : 95.31\n",
            "Batch 101 : Loss = 0.3715, Accuracy : 93.75\n",
            "Batch 201 : Loss = 0.2532, Accuracy : 90.62\n",
            "Batch 301 : Loss = 0.2172, Accuracy : 93.75\n",
            "Batch 401 : Loss = 0.2654, Accuracy : 89.06\n",
            "Batch 501 : Loss = 0.2768, Accuracy : 89.06\n",
            "Batch 601 : Loss = 0.3342, Accuracy : 87.50\n",
            "Batch 701 : Loss = 0.3239, Accuracy : 87.50\n",
            "Batch 801 : Loss = 0.3118, Accuracy : 90.62\n",
            "Batch 901 : Loss = 0.2159, Accuracy : 92.19\n",
            "Epoch 7  Summary : Total Loss : 284.4970, Accuracy = 90.31\n",
            "Epoch : 8\n",
            "Batch 1 : Loss = 0.4161, Accuracy : 87.50\n",
            "Batch 101 : Loss = 0.3425, Accuracy : 89.06\n",
            "Batch 201 : Loss = 0.2188, Accuracy : 93.75\n",
            "Batch 301 : Loss = 0.2777, Accuracy : 90.62\n",
            "Batch 401 : Loss = 0.3070, Accuracy : 87.50\n",
            "Batch 501 : Loss = 0.1342, Accuracy : 98.44\n",
            "Batch 601 : Loss = 0.2067, Accuracy : 92.19\n",
            "Batch 701 : Loss = 0.4148, Accuracy : 89.06\n",
            "Batch 801 : Loss = 0.2304, Accuracy : 90.62\n",
            "Batch 901 : Loss = 0.3063, Accuracy : 90.62\n",
            "Epoch 8  Summary : Total Loss : 279.7767, Accuracy = 90.31\n",
            "Epoch : 9\n",
            "Batch 1 : Loss = 0.3359, Accuracy : 89.06\n",
            "Batch 101 : Loss = 0.3206, Accuracy : 92.19\n",
            "Batch 201 : Loss = 0.2959, Accuracy : 85.94\n",
            "Batch 301 : Loss = 0.1927, Accuracy : 93.75\n",
            "Batch 401 : Loss = 0.2452, Accuracy : 92.19\n",
            "Batch 501 : Loss = 0.1815, Accuracy : 93.75\n",
            "Batch 601 : Loss = 0.2938, Accuracy : 89.06\n",
            "Batch 701 : Loss = 0.1694, Accuracy : 93.75\n",
            "Batch 801 : Loss = 0.3021, Accuracy : 87.50\n",
            "Batch 901 : Loss = 0.2121, Accuracy : 93.75\n",
            "Epoch 9  Summary : Total Loss : 272.8751, Accuracy = 90.47\n",
            "Epoch : 10\n",
            "Batch 1 : Loss = 0.2261, Accuracy : 90.62\n",
            "Batch 101 : Loss = 0.2287, Accuracy : 90.62\n",
            "Batch 201 : Loss = 0.3066, Accuracy : 89.06\n",
            "Batch 301 : Loss = 0.2716, Accuracy : 87.50\n",
            "Batch 401 : Loss = 0.1405, Accuracy : 93.75\n",
            "Batch 501 : Loss = 0.2131, Accuracy : 92.19\n",
            "Batch 601 : Loss = 0.2352, Accuracy : 92.19\n",
            "Batch 701 : Loss = 0.1123, Accuracy : 95.31\n",
            "Batch 801 : Loss = 0.3981, Accuracy : 85.94\n",
            "Batch 901 : Loss = 0.3099, Accuracy : 89.06\n",
            "Epoch 10  Summary : Total Loss : 267.5662, Accuracy = 90.75\n"
          ]
        }
      ]
    },
    {
      "cell_type": "code",
      "source": [
        "model.eval()\n",
        "correct = 0\n",
        "total = 0\n",
        "\n",
        "with torch.no_grad():\n",
        "  for images,labels in val_data:\n",
        "    images, labels = images.to(device) , labels.to(device)\n",
        "    outputs = model(images)\n",
        "    preds = outputs.argmax(dim=1)\n",
        "    correct += (preds==labels).sum().item()\n",
        "    total += labels.size(0)\n",
        "  val_acc = 100.0 * correct/total\n",
        "  print(f\"Validation Accuracy: { val_acc:.2f}\")\n",
        "\n"
      ],
      "metadata": {
        "id": "rG4GvEZFmVi3",
        "colab": {
          "base_uri": "https://localhost:8080/"
        },
        "outputId": "f39e0efb-9af6-4f05-d4ee-b10aa8a7044c"
      },
      "execution_count": 92,
      "outputs": [
        {
          "output_type": "stream",
          "name": "stdout",
          "text": [
            "Validation Accuracy: 91.16\n"
          ]
        }
      ]
    },
    {
      "cell_type": "code",
      "source": [
        "model.eval()\n",
        "images , labels = next(iter(val_data))\n",
        "images, labels = images.to(device) , labels.to(device)\n",
        "\n",
        "with torch.no_grad():\n",
        "  outputs = model(images)\n",
        "  preds = outputs.argmax(dim=1)\n",
        "\n",
        "\n",
        "plt.figure(figsize = (12,4))\n",
        "for i in range(20):\n",
        "  plt.subplot(4,5,i+1)\n",
        "  plt.imshow(images[i].squeeze(),cmap = \"grey\")\n",
        "  plt.title(f\"Pred: {preds[i].item()}\\n True: {labels[i].item()}\")\n",
        "  plt.axis(\"off\")\n",
        "plt.tight_layout()\n",
        "plt.show()"
      ],
      "metadata": {
        "id": "Df1wEk0xnB5c",
        "colab": {
          "base_uri": "https://localhost:8080/",
          "height": 274
        },
        "outputId": "bb3b4751-6bb7-4431-90bf-adf8208ac34d"
      },
      "execution_count": 93,
      "outputs": [
        {
          "output_type": "display_data",
          "data": {
            "text/plain": [
              "<Figure size 1200x400 with 20 Axes>"
            ],
            "image/png": "[encoded data removed]"
          },
          "metadata": {}
        }
      ]
    },
    {
      "cell_type": "code",
      "source": [
        "# Manual Checking of Image Transformations in the Vision transformer\n",
        "\n",
        "\n",
        "images , labels= next(iter(val_data))\n",
        "\n",
        "print(f\"Shape of the image data in batch : {images.shape}\")\n",
        "patch_embed = nn.Conv2d(num_channels,embed_dim,kernel_size=patch_size,stride = patch_size)\n",
        "embedded_data = patch_embed(images)\n",
        "embedded_data = embedded_data.flatten(2)\n",
        "embedded_data = embedded_data.transpose(1,2)\n",
        "print(f\"shape of Embedded Data:  {embedded_data.shape}\")\n",
        "print(torch.randn(1,1,embed_dim).shape)"
      ],
      "metadata": {
        "id": "QLOvRNZ8nwtu",
        "colab": {
          "base_uri": "https://localhost:8080/"
        },
        "outputId": "f4c1f755-aef4-461f-9704-e113c315d1a7"
      },
      "execution_count": 94,
      "outputs": [
        {
          "output_type": "stream",
          "name": "stdout",
          "text": [
            "Shape of the image data in batch : torch.Size([64, 1, 28, 28])\n",
            "shape of Embedded Data:  torch.Size([64, 16, 16])\n",
            "torch.Size([1, 1, 16])\n"
          ]
        }
      ]
    },
    {
      "cell_type": "code",
      "metadata": {
        "colab": {
          "base_uri": "https://localhost:8080/"
        },
        "id": "c96429f2",
        "outputId": "d4125d67-4522-4fb9-b852-6d7c7f7738d7"
      },
      "source": [
        "print(f\"Batch Size: {batch_size}\")\n",
        "print(f\"Image Size: {img_size}\")\n",
        "print(f\"Patch Size: {patch_size}\")\n",
        "print(f\"Number of Channels: {num_channels}\")\n",
        "print(f\"Number of Patches: {num_patches}\")\n",
        "print(f\"Number of Heads: {num_heads}\")\n",
        "print(f\"Embedding Dimension: {embed_dim}\")\n",
        "print(f\"MLP Dimension: {mlp_dim}\")\n",
        "print(f\"Number of Transformer Units: {transformer_units}\")"
      ],
      "execution_count": 95,
      "outputs": [
        {
          "output_type": "stream",
          "name": "stdout",
          "text": [
            "Batch Size: 64\n",
            "Image Size: 28\n",
            "Patch Size: 7\n",
            "Number of Channels: 1\n",
            "Number of Patches: 16\n",
            "Number of Heads: 1\n",
            "Embedding Dimension: 16\n",
            "MLP Dimension: 16\n",
            "Number of Transformer Units: 1\n"
          ]
        }
      ]
    },
    {
      "cell_type": "code",
      "source": [],
      "metadata": {
        "id": "f5VPAmd-E90r"
      },
      "execution_count": null,
      "outputs": []
    }
  ]
}