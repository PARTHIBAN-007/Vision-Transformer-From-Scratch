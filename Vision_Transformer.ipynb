{
  "cells": [
    {
      "cell_type": "code",
      "execution_count": 25,
      "metadata": {
        "id": "uBuqhKxIYnvo"
      },
      "outputs": [],
      "source": [
        "import torch\n",
        "import torchvision\n",
        "import torchvision.transforms as transforms\n",
        "import matplotlib.pyplot as plt\n",
        "import numpy as np\n",
        "import torch.nn as nn\n",
        "from torch.utils.data import DataLoader"
      ]
    },
    {
      "cell_type": "code",
      "execution_count": 26,
      "metadata": {
        "id": "3DRWVJFiY3hG"
      },
      "outputs": [],
      "source": [
        "batch_size = 64\n",
        "img_size = 28\n",
        "patch_size = 7\n",
        "num_channels = 1\n",
        "num_patches = (img_size//patch_size)**2\n",
        "num_heads = 1\n",
        "embed_dim = 16\n",
        "mlp_dim = 16\n",
        "transformer_units = 1\n",
        "\n",
        "transform = transforms.Compose(\n",
        "    [transforms.ToTensor()]\n",
        ")"
      ]
    },
    {
      "cell_type": "code",
      "execution_count": 27,
      "metadata": {
        "id": "nzLNoSOLZJZu"
      },
      "outputs": [],
      "source": [
        "train_set =  torchvision.datasets.MNIST(root = \"./data\",train = True,download = True,transform = transform)\n",
        "val_set =  torchvision.datasets.MNIST(root = \"./data\",train = False,download = True,transform = transform)"
      ]
    },
    {
      "cell_type": "code",
      "execution_count": 28,
      "metadata": {
        "id": "iChzmm4LZh0G"
      },
      "outputs": [],
      "source": [
        "train_data = DataLoader(train_set,batch_size=batch_size,shuffle=True)\n",
        "val_data = DataLoader(val_set,batch_size=batch_size,shuffle=False)"
      ]
    },
    {
      "cell_type": "code",
      "execution_count": null,
      "metadata": {
        "id": "uMczQ02nZ2Ha"
      },
      "outputs": [],
      "source": [
        "from huggingface_hub import PyTorchModelHubMixin\n",
        "\n",
        "class PatchEmbedding(nn.Module,PyTorchModelHubMixin):\n",
        "  def __init__(self):\n",
        "    super().__init__()\n",
        "    self.patch_embed = nn.Conv2d(num_channels,embed_dim, kernel_size=patch_size,stride = patch_size)\n",
        "\n",
        "  def forward(self,x):\n",
        "    x = self.patch_embed(x)\n",
        "    x = x.flatten(2)\n",
        "    x = x.transpose(1,2)\n",
        "    return x"
      ]
    },
    {
      "cell_type": "code",
      "execution_count": null,
      "metadata": {
        "id": "Eas8VdmyaR7C"
      },
      "outputs": [],
      "source": [
        "\n",
        "class TransformerArchitecture(nn.Module,PyTorchModelHubMixin):\n",
        "  def __init__(self):\n",
        "    super().__init__()\n",
        "    self.layer_norm1 = nn.LayerNorm(embed_dim)\n",
        "    self.self_attention = nn.MultiheadAttention(embed_dim,num_heads,batch_first = True)\n",
        "    self.layer_norm2 = nn.LayerNorm(embed_dim)\n",
        "    self.multi_layer_preceptron = nn.Sequential(\n",
        "        nn.Linear(embed_dim,mlp_dim),\n",
        "        nn.GELU(),\n",
        "        nn.Linear(mlp_dim,embed_dim)\n",
        "    )\n",
        "\n",
        "  def forward(self,x):\n",
        "    residual_1 = x\n",
        "    attention_output = self.self_attention(self.layer_norm1(x),self.layer_norm1(x),self.layer_norm1(x))[0]\n",
        "    x = attention_output + residual_1\n",
        "    residual_2 = x\n",
        "    mlp_output = self.multi_layer_preceptron(self.layer_norm2(x))\n",
        "    x = mlp_output + residual_2\n",
        "    return x"
      ]
    },
    {
      "cell_type": "code",
      "execution_count": 31,
      "metadata": {
        "id": "bzRgIggobhyb"
      },
      "outputs": [],
      "source": [
        "\n",
        "class VisionTransformer(nn.Module, PyTorchModelHubMixin):\n",
        "  def __init__(self):\n",
        "    super().__init__()\n",
        "    self.patch_embedding = PatchEmbedding()\n",
        "    self.cls_token = nn.Parameter(torch.randn(1,1,embed_dim))\n",
        "    self.pos_embed = nn.Parameter(torch.randn(1,(img_size//patch_size)**2 + 1, embed_dim))\n",
        "    self.transformer_layers = nn.Sequential(\n",
        "        *[TransformerArchitecture() for _ in range(transformer_units)]\n",
        "    )\n",
        "\n",
        "    self.mlp_head = nn.Sequential(\n",
        "        nn.LayerNorm(embed_dim),\n",
        "        nn.Linear(embed_dim,10)\n",
        "    )\n",
        "\n",
        "  def forward(self,x):\n",
        "    x = self.patch_embedding(x)\n",
        "    B = x.size(0)\n",
        "\n",
        "    cls_tokens = self.cls_token.expand(B,-1,-1)\n",
        "    x = torch.cat((cls_tokens,x),dim=1)\n",
        "    x = x + self.pos_embed\n",
        "    x = self.transformer_layers(x)\n",
        "    x = x[:,0]\n",
        "    x = self.mlp_head(x)\n",
        "    return x"
      ]
    },
    {
      "cell_type": "code",
      "execution_count": 32,
      "metadata": {
        "id": "zCFxPb5vc9UM"
      },
      "outputs": [],
      "source": [
        "device = torch.device(\"cuda\" if torch.cuda.is_available() else \"cpu\")\n",
        "model = VisionTransformer().to(device)\n",
        "optimizer = torch.optim.Adam(model.parameters(),lr=0.01)\n",
        "criterion = nn.CrossEntropyLoss()"
      ]
    },
    {
      "cell_type": "code",
      "execution_count": 33,
      "metadata": {
        "colab": {
          "base_uri": "https://localhost:8080/"
        },
        "id": "ou9DgQTykoTE",
        "outputId": "dc02e9bf-8db8-4e81-a71b-e5ddce8da27d"
      },
      "outputs": [
        {
          "name": "stdout",
          "output_type": "stream",
          "text": [
            "Epoch : 1\n",
            "Batch 1 : Loss = 2.3197, Accuracy : 15.62\n",
            "Batch 101 : Loss = 1.1986, Accuracy : 56.25\n",
            "Batch 201 : Loss = 0.7966, Accuracy : 68.75\n",
            "Batch 301 : Loss = 1.0729, Accuracy : 67.19\n",
            "Batch 401 : Loss = 0.6797, Accuracy : 76.56\n",
            "Batch 501 : Loss = 0.7255, Accuracy : 76.56\n",
            "Batch 601 : Loss = 0.9511, Accuracy : 68.75\n",
            "Batch 701 : Loss = 0.6349, Accuracy : 76.56\n",
            "Batch 801 : Loss = 0.7244, Accuracy : 84.38\n",
            "Batch 901 : Loss = 0.6145, Accuracy : 82.81\n",
            "Epoch 1  Summary : Total Loss : 833.1008, Accuracy = 70.34\n",
            "Epoch : 2\n",
            "Batch 1 : Loss = 1.0220, Accuracy : 73.44\n",
            "Batch 101 : Loss = 0.6073, Accuracy : 79.69\n",
            "Batch 201 : Loss = 0.3909, Accuracy : 82.81\n",
            "Batch 301 : Loss = 0.7725, Accuracy : 84.38\n",
            "Batch 401 : Loss = 0.6477, Accuracy : 82.81\n",
            "Batch 501 : Loss = 0.7267, Accuracy : 82.81\n",
            "Batch 601 : Loss = 0.3976, Accuracy : 87.50\n",
            "Batch 701 : Loss = 0.5602, Accuracy : 81.25\n",
            "Batch 801 : Loss = 0.5742, Accuracy : 85.94\n",
            "Batch 901 : Loss = 0.6109, Accuracy : 84.38\n",
            "Epoch 2  Summary : Total Loss : 522.3222, Accuracy = 82.47\n",
            "Epoch : 3\n",
            "Batch 1 : Loss = 0.4628, Accuracy : 89.06\n",
            "Batch 101 : Loss = 0.7771, Accuracy : 78.12\n",
            "Batch 201 : Loss = 0.5792, Accuracy : 84.38\n",
            "Batch 301 : Loss = 0.6149, Accuracy : 79.69\n",
            "Batch 401 : Loss = 0.5265, Accuracy : 81.25\n",
            "Batch 501 : Loss = 0.7209, Accuracy : 76.56\n",
            "Batch 601 : Loss = 0.3227, Accuracy : 90.62\n",
            "Batch 701 : Loss = 0.3426, Accuracy : 89.06\n",
            "Batch 801 : Loss = 0.3986, Accuracy : 84.38\n",
            "Batch 901 : Loss = 0.6112, Accuracy : 84.38\n",
            "Epoch 3  Summary : Total Loss : 450.0514, Accuracy = 84.85\n",
            "Epoch : 4\n",
            "Batch 1 : Loss = 0.4501, Accuracy : 85.94\n",
            "Batch 101 : Loss = 0.2628, Accuracy : 89.06\n",
            "Batch 201 : Loss = 0.3667, Accuracy : 89.06\n",
            "Batch 301 : Loss = 0.5467, Accuracy : 85.94\n",
            "Batch 401 : Loss = 0.4069, Accuracy : 90.62\n",
            "Batch 501 : Loss = 0.6365, Accuracy : 79.69\n",
            "Batch 601 : Loss = 0.4190, Accuracy : 90.62\n",
            "Batch 701 : Loss = 0.4406, Accuracy : 82.81\n",
            "Batch 801 : Loss = 0.4106, Accuracy : 84.38\n",
            "Batch 901 : Loss = 0.2834, Accuracy : 87.50\n",
            "Epoch 4  Summary : Total Loss : 392.7701, Accuracy = 86.91\n",
            "Epoch : 5\n",
            "Batch 1 : Loss = 0.3183, Accuracy : 90.62\n",
            "Batch 101 : Loss = 0.3206, Accuracy : 90.62\n",
            "Batch 201 : Loss = 0.4710, Accuracy : 85.94\n",
            "Batch 301 : Loss = 0.2824, Accuracy : 93.75\n",
            "Batch 401 : Loss = 0.2591, Accuracy : 87.50\n",
            "Batch 501 : Loss = 0.6204, Accuracy : 79.69\n",
            "Batch 601 : Loss = 0.3550, Accuracy : 89.06\n",
            "Batch 701 : Loss = 0.4768, Accuracy : 81.25\n",
            "Batch 801 : Loss = 0.7374, Accuracy : 82.81\n",
            "Batch 901 : Loss = 0.2929, Accuracy : 92.19\n",
            "Epoch 5  Summary : Total Loss : 361.4930, Accuracy = 88.03\n",
            "Epoch : 6\n",
            "Batch 1 : Loss = 0.2305, Accuracy : 95.31\n",
            "Batch 101 : Loss = 0.9170, Accuracy : 73.44\n",
            "Batch 201 : Loss = 0.4809, Accuracy : 82.81\n",
            "Batch 301 : Loss = 0.2603, Accuracy : 90.62\n",
            "Batch 401 : Loss = 0.3282, Accuracy : 92.19\n",
            "Batch 501 : Loss = 0.1912, Accuracy : 95.31\n",
            "Batch 601 : Loss = 0.1999, Accuracy : 95.31\n",
            "Batch 701 : Loss = 0.3304, Accuracy : 92.19\n",
            "Batch 801 : Loss = 0.6105, Accuracy : 82.81\n",
            "Batch 901 : Loss = 0.5308, Accuracy : 84.38\n",
            "Epoch 6  Summary : Total Loss : 342.7912, Accuracy = 88.46\n",
            "Epoch : 7\n",
            "Batch 1 : Loss = 0.2580, Accuracy : 92.19\n",
            "Batch 101 : Loss = 0.1659, Accuracy : 95.31\n",
            "Batch 201 : Loss = 0.5914, Accuracy : 81.25\n",
            "Batch 301 : Loss = 0.2775, Accuracy : 95.31\n",
            "Batch 401 : Loss = 0.3553, Accuracy : 87.50\n",
            "Batch 501 : Loss = 0.4868, Accuracy : 84.38\n",
            "Batch 601 : Loss = 0.1934, Accuracy : 96.88\n",
            "Batch 701 : Loss = 0.1832, Accuracy : 93.75\n",
            "Batch 801 : Loss = 0.2841, Accuracy : 85.94\n",
            "Batch 901 : Loss = 0.3591, Accuracy : 89.06\n",
            "Epoch 7  Summary : Total Loss : 329.2416, Accuracy = 88.98\n",
            "Epoch : 8\n",
            "Batch 1 : Loss = 0.4778, Accuracy : 82.81\n",
            "Batch 101 : Loss = 0.3197, Accuracy : 89.06\n",
            "Batch 201 : Loss = 0.3779, Accuracy : 90.62\n",
            "Batch 301 : Loss = 0.3208, Accuracy : 87.50\n",
            "Batch 401 : Loss = 0.4230, Accuracy : 87.50\n",
            "Batch 501 : Loss = 0.3858, Accuracy : 89.06\n",
            "Batch 601 : Loss = 0.2310, Accuracy : 90.62\n",
            "Batch 701 : Loss = 0.5044, Accuracy : 85.94\n",
            "Batch 801 : Loss = 0.3785, Accuracy : 90.62\n",
            "Batch 901 : Loss = 0.3550, Accuracy : 85.94\n",
            "Epoch 8  Summary : Total Loss : 316.2585, Accuracy = 89.38\n",
            "Epoch : 9\n",
            "Batch 1 : Loss = 0.1700, Accuracy : 95.31\n",
            "Batch 101 : Loss = 0.5341, Accuracy : 82.81\n",
            "Batch 201 : Loss = 0.3591, Accuracy : 84.38\n",
            "Batch 301 : Loss = 0.2275, Accuracy : 92.19\n",
            "Batch 401 : Loss = 0.3595, Accuracy : 89.06\n",
            "Batch 501 : Loss = 0.1772, Accuracy : 93.75\n",
            "Batch 601 : Loss = 0.1749, Accuracy : 93.75\n",
            "Batch 701 : Loss = 0.2880, Accuracy : 90.62\n",
            "Batch 801 : Loss = 0.2855, Accuracy : 92.19\n",
            "Batch 901 : Loss = 0.3317, Accuracy : 85.94\n",
            "Epoch 9  Summary : Total Loss : 307.1987, Accuracy = 89.69\n",
            "Epoch : 10\n",
            "Batch 1 : Loss = 0.2510, Accuracy : 92.19\n",
            "Batch 101 : Loss = 0.3255, Accuracy : 89.06\n",
            "Batch 201 : Loss = 0.1472, Accuracy : 93.75\n",
            "Batch 301 : Loss = 0.2020, Accuracy : 93.75\n",
            "Batch 401 : Loss = 0.1835, Accuracy : 93.75\n",
            "Batch 501 : Loss = 0.2183, Accuracy : 92.19\n",
            "Batch 601 : Loss = 0.1873, Accuracy : 95.31\n",
            "Batch 701 : Loss = 0.2174, Accuracy : 93.75\n",
            "Batch 801 : Loss = 0.3908, Accuracy : 87.50\n",
            "Batch 901 : Loss = 0.2924, Accuracy : 93.75\n",
            "Epoch 10  Summary : Total Loss : 299.1105, Accuracy = 90.01\n"
          ]
        }
      ],
      "source": [
        "for epoch in range(10):\n",
        "  model.train()\n",
        "  total_loss = 0\n",
        "  correct_epoch = 0\n",
        "  total_epoch = 0\n",
        "  print(f\"Epoch : {epoch+1}\")\n",
        "\n",
        "  for batch_idx, (images,labels) in enumerate(train_data):\n",
        "    images,labels = images.to(device), labels.to(device)\n",
        "    optimizer.zero_grad()\n",
        "    outputs = model(images)\n",
        "\n",
        "    loss = criterion(outputs,labels)\n",
        "    loss.backward()\n",
        "    optimizer.step()\n",
        "\n",
        "    total_loss += loss.item()\n",
        "    preds = outputs.argmax(dim=1)\n",
        "\n",
        "    correct = (preds==labels).sum().item()\n",
        "    accuracy = 100.0 * correct / labels.size(0)\n",
        "\n",
        "    correct_epoch += correct\n",
        "    total_epoch += labels.size(0)\n",
        "\n",
        "    if batch_idx%100==0:\n",
        "      print(f\"Batch {batch_idx+1} : Loss = {loss.item():.4f}, Accuracy : {accuracy:.2f}\")\n",
        "  epoch_acc = 100.0 * correct_epoch /total_epoch\n",
        "  print(f\"Epoch {epoch+1}  Summary : Total Loss : {total_loss:.4f}, Accuracy = {epoch_acc:.2f}\")\n",
        "\n",
        "\n",
        "\n",
        "\n"
      ]
    },
    {
      "cell_type": "code",
      "execution_count": 34,
      "metadata": {
        "colab": {
          "base_uri": "https://localhost:8080/"
        },
        "id": "rG4GvEZFmVi3",
        "outputId": "deca1736-2918-4458-8df9-8e6d556d7774"
      },
      "outputs": [
        {
          "name": "stdout",
          "output_type": "stream",
          "text": [
            "Validation Accuracy: 89.31\n"
          ]
        }
      ],
      "source": [
        "model.eval()\n",
        "correct = 0\n",
        "total = 0\n",
        "\n",
        "with torch.no_grad():\n",
        "  for images,labels in val_data:\n",
        "    images, labels = images.to(device) , labels.to(device)\n",
        "    outputs = model(images)\n",
        "    preds = outputs.argmax(dim=1)\n",
        "    correct += (preds==labels).sum().item()\n",
        "    total += labels.size(0)\n",
        "  val_acc = 100.0 * correct/total\n",
        "  print(f\"Validation Accuracy: { val_acc:.2f}\")\n",
        "\n"
      ]
    },
    {
      "cell_type": "code",
      "execution_count": 35,
      "metadata": {
        "colab": {
          "base_uri": "https://localhost:8080/",
          "height": 407
        },
        "id": "Df1wEk0xnB5c",
        "outputId": "fdcb0bb3-17a6-4cf0-8ca8-3a9a9203dbd3"
      },
      "outputs": [
        {
          "data": {
            "image/png": "[encoded data removed]",
            "text/plain": [
              "<Figure size 1200x400 with 20 Axes>"
            ]
          },
          "metadata": {},
          "output_type": "display_data"
        }
      ],
      "source": [
        "model.eval()\n",
        "images , labels = next(iter(val_data))\n",
        "images, labels = images.to(device) , labels.to(device)\n",
        "\n",
        "with torch.no_grad():\n",
        "  outputs = model(images)\n",
        "  preds = outputs.argmax(dim=1)\n",
        "\n",
        "\n",
        "plt.figure(figsize = (12,4))\n",
        "for i in range(20):\n",
        "  plt.subplot(4,5,i+1)\n",
        "  plt.imshow(images[i].squeeze(),cmap = \"grey\")\n",
        "  plt.title(f\"Pred: {preds[i].item()}\\n True: {labels[i].item()}\")\n",
        "  plt.axis(\"off\")\n",
        "plt.tight_layout()\n",
        "plt.show()"
      ]
    },
    {
      "cell_type": "code",
      "execution_count": 36,
      "metadata": {
        "colab": {
          "base_uri": "https://localhost:8080/"
        },
        "id": "QLOvRNZ8nwtu",
        "outputId": "ec82ec8d-de88-4915-9cb6-8b11bd926907"
      },
      "outputs": [
        {
          "name": "stdout",
          "output_type": "stream",
          "text": [
            "Shape of the image data in batch : torch.Size([64, 1, 28, 28])\n",
            "shape of Embedded Data:  torch.Size([64, 16, 16])\n",
            "torch.Size([1, 1, 16])\n"
          ]
        }
      ],
      "source": [
        "# Manual Checking of Image Transformations in the Vision transformer\n",
        "\n",
        "images , labels= next(iter(val_data))\n",
        "print(f\"Shape of the image data in batch : {images.shape}\")\n",
        "patch_embed = nn.Conv2d(num_channels,embed_dim,kernel_size=patch_size,stride = patch_size)\n",
        "embedded_data = patch_embed(images)\n",
        "embedded_data = embedded_data.flatten(2)\n",
        "embedded_data = embedded_data.transpose(1,2)\n",
        "print(f\"shape of Embedded Data:  {embedded_data.shape}\")\n",
        "print(torch.randn(1,1,embed_dim).shape)"
      ]
    },
    {
      "cell_type": "code",
      "execution_count": 37,
      "metadata": {
        "colab": {
          "base_uri": "https://localhost:8080/"
        },
        "id": "c96429f2",
        "outputId": "314abf95-40fe-4381-878a-c4ecaea04b65"
      },
      "outputs": [
        {
          "name": "stdout",
          "output_type": "stream",
          "text": [
            "Batch Size: 64\n",
            "Image Size: 28\n",
            "Patch Size: 7\n",
            "Number of Channels: 1\n",
            "Number of Patches: 16\n",
            "Number of Heads: 1\n",
            "Embedding Dimension: 16\n",
            "MLP Dimension: 16\n",
            "Number of Transformer Units: 1\n"
          ]
        }
      ],
      "source": [
        "print(f\"Batch Size: {batch_size}\")\n",
        "print(f\"Image Size: {img_size}\")\n",
        "print(f\"Patch Size: {patch_size}\")\n",
        "print(f\"Number of Channels: {num_channels}\")\n",
        "print(f\"Number of Patches: {num_patches}\")\n",
        "print(f\"Number of Heads: {num_heads}\")\n",
        "print(f\"Embedding Dimension: {embed_dim}\")\n",
        "print(f\"MLP Dimension: {mlp_dim}\")\n",
        "print(f\"Number of Transformer Units: {transformer_units}\")"
      ]
    },
    {
      "cell_type": "code",
      "execution_count": null,
      "metadata": {
        "id": "mG0Z1anoGukf"
      },
      "outputs": [],
      "source": [
        "# from huggingface_hub import notebook_login\n",
        "# notebook_login()"
      ]
    },
    {
      "cell_type": "code",
      "execution_count": 40,
      "metadata": {
        "colab": {
          "base_uri": "https://localhost:8080/",
          "height": 196,
          "referenced_widgets": [
            "d0bb8cfda5a84dc4a07bcf4b7a50c318",
            "ef06dc0dc42345f89af13f9ed095b677",
            "105491ec1bbf4a448f72abbbccdd9679",
            "6802156256da4a8384edbb6ccacd9c21",
            "6b3f9579b6804784a587f0ad01f903b1",
            "aeb065f44dba4383ae861c141466b2bb",
            "323570f6cf47452b82a28e8c073c029f",
            "2a9455d3782d4287b4bdb8a5aba53ee7",
            "30f808150fe04fd6bf8f3b550e5ba540",
            "655acd129dcc4eebb46db4af2825abf5",
            "2394aa3c13984902b14dcd55d0adef52"
          ]
        },
        "id": "O604Wtm7-4mL",
        "outputId": "713b6bdd-0364-4f4b-d550-e6db1e98c7bf"
      },
      "outputs": [
        {
          "name": "stderr",
          "output_type": "stream",
          "text": [
            "/usr/local/lib/python3.11/dist-packages/huggingface_hub/utils/_auth.py:94: UserWarning: \n",
            "The secret `HF_TOKEN` does not exist in your Colab secrets.\n",
            "To authenticate with the Hugging Face Hub, create a token in your settings tab (https://huggingface.co/settings/tokens), set it as secret in your Google Colab and restart your session.\n",
            "You will be able to reuse this secret in all of your notebooks.\n",
            "Please note that authentication is recommended but still optional to access public models or datasets.\n",
            "  warnings.warn(\n"
          ]
        },
        {
          "data": {
            "application/vnd.jupyter.widget-view+json": {
              "model_id": "d0bb8cfda5a84dc4a07bcf4b7a50c318",
              "version_major": 2,
              "version_minor": 0
            },
            "text/plain": [
              "model.safetensors:   0%|          | 0.00/13.9k [00:00<?, ?B/s]"
            ]
          },
          "metadata": {},
          "output_type": "display_data"
        },
        {
          "name": "stdout",
          "output_type": "stream",
          "text": [
            "Model successfully pushed to https://huggingface.co/Parthiban007/VisionTransformer\n"
          ]
        }
      ],
      "source": [
        "# repo_id = \"Parthiban007/VisionTransformer\"\n",
        "\n",
        "# model.push_to_hub(repo_id)\n",
        "\n",
        "# print(f\"Model successfully pushed to https://huggingface.co/{repo_id}\")"
      ]
    }
  ],
  "metadata": {
    "colab": {
      "authorship_tag": "ABX9TyNvlhI2U5fQ3yvjA7SS95uk",
      "include_colab_link": true,
      "provenance": []
    },
    "kernelspec": {
      "display_name": "Python 3",
      "name": "python3"
    },
    "language_info": {
      "name": "python"
    },
    "widgets": {
      "application/vnd.jupyter.widget-state+json": {
        "105491ec1bbf4a448f72abbbccdd9679": {
          "model_module": "@jupyter-widgets/controls",
          "model_module_version": "1.5.0",
          "model_name": "FloatProgressModel",
          "state": {
            "_dom_classes": [],
            "_model_module": "@jupyter-widgets/controls",
            "_model_module_version": "1.5.0",
            "_model_name": "FloatProgressModel",
            "_view_count": null,
            "_view_module": "@jupyter-widgets/controls",
            "_view_module_version": "1.5.0",
            "_view_name": "ProgressView",
            "bar_style": "success",
            "description": "",
            "description_tooltip": null,
            "layout": "IPY_MODEL_2a9455d3782d4287b4bdb8a5aba53ee7",
            "max": 13856,
            "min": 0,
            "orientation": "horizontal",
            "style": "IPY_MODEL_30f808150fe04fd6bf8f3b550e5ba540",
            "value": 13856
          }
        },
        "2394aa3c13984902b14dcd55d0adef52": {
          "model_module": "@jupyter-widgets/controls",
          "model_module_version": "1.5.0",
          "model_name": "DescriptionStyleModel",
          "state": {
            "_model_module": "@jupyter-widgets/controls",
            "_model_module_version": "1.5.0",
            "_model_name": "DescriptionStyleModel",
            "_view_count": null,
            "_view_module": "@jupyter-widgets/base",
            "_view_module_version": "1.2.0",
            "_view_name": "StyleView",
            "description_width": ""
          }
        },
        "2a9455d3782d4287b4bdb8a5aba53ee7": {
          "model_module": "@jupyter-widgets/base",
          "model_module_version": "1.2.0",
          "model_name": "LayoutModel",
          "state": {
            "_model_module": "@jupyter-widgets/base",
            "_model_module_version": "1.2.0",
            "_model_name": "LayoutModel",
            "_view_count": null,
            "_view_module": "@jupyter-widgets/base",
            "_view_module_version": "1.2.0",
            "_view_name": "LayoutView",
            "align_content": null,
            "align_items": null,
            "align_self": null,
            "border": null,
            "bottom": null,
            "display": null,
            "flex": null,
            "flex_flow": null,
            "grid_area": null,
            "grid_auto_columns": null,
            "grid_auto_flow": null,
            "grid_auto_rows": null,
            "grid_column": null,
            "grid_gap": null,
            "grid_row": null,
            "grid_template_areas": null,
            "grid_template_columns": null,
            "grid_template_rows": null,
            "height": null,
            "justify_content": null,
            "justify_items": null,
            "left": null,
            "margin": null,
            "max_height": null,
            "max_width": null,
            "min_height": null,
            "min_width": null,
            "object_fit": null,
            "object_position": null,
            "order": null,
            "overflow": null,
            "overflow_x": null,
            "overflow_y": null,
            "padding": null,
            "right": null,
            "top": null,
            "visibility": null,
            "width": null
          }
        },
        "30f808150fe04fd6bf8f3b550e5ba540": {
          "model_module": "@jupyter-widgets/controls",
          "model_module_version": "1.5.0",
          "model_name": "ProgressStyleModel",
          "state": {
            "_model_module": "@jupyter-widgets/controls",
            "_model_module_version": "1.5.0",
            "_model_name": "ProgressStyleModel",
            "_view_count": null,
            "_view_module": "@jupyter-widgets/base",
            "_view_module_version": "1.2.0",
            "_view_name": "StyleView",
            "bar_color": null,
            "description_width": ""
          }
        },
        "323570f6cf47452b82a28e8c073c029f": {
          "model_module": "@jupyter-widgets/controls",
          "model_module_version": "1.5.0",
          "model_name": "DescriptionStyleModel",
          "state": {
            "_model_module": "@jupyter-widgets/controls",
            "_model_module_version": "1.5.0",
            "_model_name": "DescriptionStyleModel",
            "_view_count": null,
            "_view_module": "@jupyter-widgets/base",
            "_view_module_version": "1.2.0",
            "_view_name": "StyleView",
            "description_width": ""
          }
        },
        "655acd129dcc4eebb46db4af2825abf5": {
          "model_module": "@jupyter-widgets/base",
          "model_module_version": "1.2.0",
          "model_name": "LayoutModel",
          "state": {
            "_model_module": "@jupyter-widgets/base",
            "_model_module_version": "1.2.0",
            "_model_name": "LayoutModel",
            "_view_count": null,
            "_view_module": "@jupyter-widgets/base",
            "_view_module_version": "1.2.0",
            "_view_name": "LayoutView",
            "align_content": null,
            "align_items": null,
            "align_self": null,
            "border": null,
            "bottom": null,
            "display": null,
            "flex": null,
            "flex_flow": null,
            "grid_area": null,
            "grid_auto_columns": null,
            "grid_auto_flow": null,
            "grid_auto_rows": null,
            "grid_column": null,
            "grid_gap": null,
            "grid_row": null,
            "grid_template_areas": null,
            "grid_template_columns": null,
            "grid_template_rows": null,
            "height": null,
            "justify_content": null,
            "justify_items": null,
            "left": null,
            "margin": null,
            "max_height": null,
            "max_width": null,
            "min_height": null,
            "min_width": null,
            "object_fit": null,
            "object_position": null,
            "order": null,
            "overflow": null,
            "overflow_x": null,
            "overflow_y": null,
            "padding": null,
            "right": null,
            "top": null,
            "visibility": null,
            "width": null
          }
        },
        "6802156256da4a8384edbb6ccacd9c21": {
          "model_module": "@jupyter-widgets/controls",
          "model_module_version": "1.5.0",
          "model_name": "HTMLModel",
          "state": {
            "_dom_classes": [],
            "_model_module": "@jupyter-widgets/controls",
            "_model_module_version": "1.5.0",
            "_model_name": "HTMLModel",
            "_view_count": null,
            "_view_module": "@jupyter-widgets/controls",
            "_view_module_version": "1.5.0",
            "_view_name": "HTMLView",
            "description": "",
            "description_tooltip": null,
            "layout": "IPY_MODEL_655acd129dcc4eebb46db4af2825abf5",
            "placeholder": "​",
            "style": "IPY_MODEL_2394aa3c13984902b14dcd55d0adef52",
            "value": " 13.9k/13.9k [00:00&lt;00:00, 91.0kB/s]"
          }
        },
        "6b3f9579b6804784a587f0ad01f903b1": {
          "model_module": "@jupyter-widgets/base",
          "model_module_version": "1.2.0",
          "model_name": "LayoutModel",
          "state": {
            "_model_module": "@jupyter-widgets/base",
            "_model_module_version": "1.2.0",
            "_model_name": "LayoutModel",
            "_view_count": null,
            "_view_module": "@jupyter-widgets/base",
            "_view_module_version": "1.2.0",
            "_view_name": "LayoutView",
            "align_content": null,
            "align_items": null,
            "align_self": null,
            "border": null,
            "bottom": null,
            "display": null,
            "flex": null,
            "flex_flow": null,
            "grid_area": null,
            "grid_auto_columns": null,
            "grid_auto_flow": null,
            "grid_auto_rows": null,
            "grid_column": null,
            "grid_gap": null,
            "grid_row": null,
            "grid_template_areas": null,
            "grid_template_columns": null,
            "grid_template_rows": null,
            "height": null,
            "justify_content": null,
            "justify_items": null,
            "left": null,
            "margin": null,
            "max_height": null,
            "max_width": null,
            "min_height": null,
            "min_width": null,
            "object_fit": null,
            "object_position": null,
            "order": null,
            "overflow": null,
            "overflow_x": null,
            "overflow_y": null,
            "padding": null,
            "right": null,
            "top": null,
            "visibility": null,
            "width": null
          }
        },
        "aeb065f44dba4383ae861c141466b2bb": {
          "model_module": "@jupyter-widgets/base",
          "model_module_version": "1.2.0",
          "model_name": "LayoutModel",
          "state": {
            "_model_module": "@jupyter-widgets/base",
            "_model_module_version": "1.2.0",
            "_model_name": "LayoutModel",
            "_view_count": null,
            "_view_module": "@jupyter-widgets/base",
            "_view_module_version": "1.2.0",
            "_view_name": "LayoutView",
            "align_content": null,
            "align_items": null,
            "align_self": null,
            "border": null,
            "bottom": null,
            "display": null,
            "flex": null,
            "flex_flow": null,
            "grid_area": null,
            "grid_auto_columns": null,
            "grid_auto_flow": null,
            "grid_auto_rows": null,
            "grid_column": null,
            "grid_gap": null,
            "grid_row": null,
            "grid_template_areas": null,
            "grid_template_columns": null,
            "grid_template_rows": null,
            "height": null,
            "justify_content": null,
            "justify_items": null,
            "left": null,
            "margin": null,
            "max_height": null,
            "max_width": null,
            "min_height": null,
            "min_width": null,
            "object_fit": null,
            "object_position": null,
            "order": null,
            "overflow": null,
            "overflow_x": null,
            "overflow_y": null,
            "padding": null,
            "right": null,
            "top": null,
            "visibility": null,
            "width": null
          }
        },
        "d0bb8cfda5a84dc4a07bcf4b7a50c318": {
          "model_module": "@jupyter-widgets/controls",
          "model_module_version": "1.5.0",
          "model_name": "HBoxModel",
          "state": {
            "_dom_classes": [],
            "_model_module": "@jupyter-widgets/controls",
            "_model_module_version": "1.5.0",
            "_model_name": "HBoxModel",
            "_view_count": null,
            "_view_module": "@jupyter-widgets/controls",
            "_view_module_version": "1.5.0",
            "_view_name": "HBoxView",
            "box_style": "",
            "children": [
              "IPY_MODEL_ef06dc0dc42345f89af13f9ed095b677",
              "IPY_MODEL_105491ec1bbf4a448f72abbbccdd9679",
              "IPY_MODEL_6802156256da4a8384edbb6ccacd9c21"
            ],
            "layout": "IPY_MODEL_6b3f9579b6804784a587f0ad01f903b1"
          }
        },
        "ef06dc0dc42345f89af13f9ed095b677": {
          "model_module": "@jupyter-widgets/controls",
          "model_module_version": "1.5.0",
          "model_name": "HTMLModel",
          "state": {
            "_dom_classes": [],
            "_model_module": "@jupyter-widgets/controls",
            "_model_module_version": "1.5.0",
            "_model_name": "HTMLModel",
            "_view_count": null,
            "_view_module": "@jupyter-widgets/controls",
            "_view_module_version": "1.5.0",
            "_view_name": "HTMLView",
            "description": "",
            "description_tooltip": null,
            "layout": "IPY_MODEL_aeb065f44dba4383ae861c141466b2bb",
            "placeholder": "​",
            "style": "IPY_MODEL_323570f6cf47452b82a28e8c073c029f",
            "value": "model.safetensors: 100%"
          }
        }
      }
    }
  },
  "nbformat": 4,
  "nbformat_minor": 0
}
