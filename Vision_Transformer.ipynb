{
  "nbformat": 4,
  "nbformat_minor": 0,
  "metadata": {
    "colab": {
      "provenance": [],
      "authorship_tag": "ABX9TyOSkc6PKIijbAGiRiY7b3zp",
      "include_colab_link": true
    },
    "kernelspec": {
      "name": "python3",
      "display_name": "Python 3"
    },
    "language_info": {
      "name": "python"
    }
  },
  "cells": [
    {
      "cell_type": "markdown",
      "metadata": {
        "id": "view-in-github",
        "colab_type": "text"
      },
      "source": [
        "<a href=\"https://colab.research.google.com/github/PARTHIBAN-007/Vision-Transformer-From-Scratch/blob/main/Vision_Transformer.ipynb\" target=\"_parent\"><img src=\"https://colab.research.google.com/assets/colab-badge.svg\" alt=\"Open In Colab\"/></a>"
      ]
    },
    {
      "cell_type": "code",
      "execution_count": null,
      "metadata": {
        "id": "uBuqhKxIYnvo"
      },
      "outputs": [],
      "source": [
        "import torch\n",
        "import torchvision\n",
        "import torchvision.transforms as transforms\n",
        "import matplotlib.pyplot as plt\n",
        "import numpy as np\n",
        "import torch.nn as nn\n",
        "from torch.utils.data import DataLoader"
      ]
    },
    {
      "cell_type": "code",
      "source": [
        "batch_size = 64\n",
        "img_size = 28\n",
        "patch_size = 7\n",
        "num_channels = 1\n",
        "num_patches = (img_size//patch_size)**2\n",
        "num_heads = 1\n",
        "embed_dim = 16\n",
        "mlp_dim = 16\n",
        "transformer_units = 1\n",
        "\n",
        "transform = transforms.Compose(\n",
        "    [transforms.ToTensor()]\n",
        ")"
      ],
      "metadata": {
        "id": "3DRWVJFiY3hG"
      },
      "execution_count": null,
      "outputs": []
    },
    {
      "cell_type": "code",
      "source": [
        "train_set =  torchvision.dataset.MNIST(root = \"./data\",train = True,download = True,transform = transform)\n",
        "val_set =  torchvision.dataset.MNIST(root = \"./data\",train = False,download = True,transform = transform)"
      ],
      "metadata": {
        "id": "nzLNoSOLZJZu"
      },
      "execution_count": null,
      "outputs": []
    },
    {
      "cell_type": "code",
      "source": [
        "train_data = DataLoader(train_set,batch_size=batch_size,shuffle=True)\n",
        "val_data = DataLoader(val_set,batch_size=batch_size,shuffle=False)"
      ],
      "metadata": {
        "id": "iChzmm4LZh0G"
      },
      "execution_count": null,
      "outputs": []
    },
    {
      "cell_type": "code",
      "source": [
        "class PatchEmbedding(nn.Module):\n",
        "  def __init__(self):\n",
        "    super().__init__()\n",
        "    self.patch_embed = nn.Conv2d(num_channels,embed_dim, kernel_size=patch_size,stride = patch_size)\n",
        "\n",
        "  def forward(self,x):\n",
        "    x = self.patch_embed(x)\n",
        "    x = x.flatten(2)\n",
        "    x = x.transpose(1,2)\n",
        "    return x"
      ],
      "metadata": {
        "id": "uMczQ02nZ2Ha"
      },
      "execution_count": null,
      "outputs": []
    },
    {
      "cell_type": "code",
      "source": [
        "class TransformerArchitecture(nn.Module):\n",
        "  def __init__(self):\n",
        "    super.__init__()\n",
        "    self.layer_norm1 = nn.LayerNorm(embed_dim)\n",
        "    self.self_attention = nn.MultiHeadAttention(embed_dim,num_heads,batch_first = True)\n",
        "    self.layer_norm2 = nn.LayerNorm(embed_dim)\n",
        "    self.multi_layer_preceptron = nn.Sequential(\n",
        "        nn.Linear(embed_dim,mlp_dim),\n",
        "        nn.Gelu(),\n",
        "        nn.Linear(mlp_dim,embed_dim)\n",
        "    )\n",
        "\n",
        "  def forward(self,x):\n",
        "    residual_1 = x\n",
        "    attention_output = self.self_attention(self.layer_norm_1(x),self.layer_norm1(x),self.layer_norm_1(x))[0]\n",
        "    x = attention_output + residual_1\n",
        "    residual_2 = x\n",
        "    mlp_output = self.multi_layer_preceptron(self.layer_norm2(x))\n",
        "    x = mlp_output + residual_2\n",
        "    return x\n"
      ],
      "metadata": {
        "id": "Eas8VdmyaR7C"
      },
      "execution_count": null,
      "outputs": []
    },
    {
      "cell_type": "code",
      "source": [
        "class VisionTransformer(nn.Module):\n",
        "  def __init__(self):\n",
        "    super().__init__()\n",
        "    self.patch_embedding = PatchEmbedding()\n",
        "    self.cls_token = nn.Parameter(torch.randn(1,1,embed_dim))\n",
        "    self.pos_embed = nn.Parameters(torch.randn(1,(img_size//patch_size)**2 + 1, embed_dim))\n",
        "    self.transformer_layers = nn.Sequential(\n",
        "        *[TransformerArchitecture() for _ in range(transformer_units)]\n",
        "    )\n",
        "\n",
        "    self.mlp_head = nn.Sequential(\n",
        "        nn.LayerNorm(embed_dim),\n",
        "        nn.Linear(embed_dim,10)\n",
        "    )\n",
        "\n",
        "  def forward(self,x):\n",
        "    x = self.patch_embedding(x)\n",
        "    B = x.size(0)\n",
        "\n",
        "    cls_tokens = self.cls_token.expand(B,-1,-1)\n",
        "    x = torch.cat((cls_tokens,x),dim=1)\n",
        "    x = x + self.pos_embed\n",
        "    x = self.transformer_layers(x)\n",
        "    x = x[:,0]\n",
        "    x = self.mlp_head(x)\n",
        "    return x\n",
        ""
      ],
      "metadata": {
        "id": "bzRgIggobhyb"
      },
      "execution_count": null,
      "outputs": []
    },
    {
      "cell_type": "code",
      "source": [
        "device = torch.device(\"cuda\" if torch.cuda.is_available() else \"cpu\")\n",
        "model = VisionTransformer().to(device)\n",
        "optimizer = torch.optim.Adam(model.parameters(),lr=0.01)\n",
        "criterion = nn.CrossEntropyLoss()"
      ],
      "metadata": {
        "id": "zCFxPb5vc9UM"
      },
      "execution_count": null,
      "outputs": []
    },
    {
      "cell_type": "code",
      "source": [
        "for epoch in range(5):\n",
        "  model.train()\n",
        "  total_loss = 0\n",
        "  correct_epoch = 0\n",
        "  total_epoch = 0\n",
        "  print(f\"Epoch : {epoch+1}\")\n",
        "\n",
        "  for batch_idx, (images,label) in enumerate(train_data):\n",
        "    images,labels = images.to(device), labels.to(device)\n",
        "    optimizer.zero_grad()\n",
        "    outputs = model(images)\n",
        "\n",
        "    loss = criterion(outputs,labels)\n",
        "    loss.backward()\n",
        "    optimizer.step()\n",
        "\n",
        "    total_loss += loss.item()\n",
        "    preds = outputs.argmax(dim=1)\n",
        "\n",
        "    correct = (preds==labels).sum().items()\n",
        "    accuracy = 100.0 * correct / labels.size(0)\n",
        "\n",
        "    if batch_idx%100==0:\n",
        "      print(f\"Batch {batch_idx+1} : Loss = {loss.item():.4f}, Accuracy : {accuracy:.2f}\")\n",
        "  epoch_acc = 100.0 * correct_epoch /total_epoch\n",
        "  print(f\"Epoch {epoch+1}  Summary : Total Loss : {total_loss:.4f}, Accuracy = {epoch_acc:.2f}\")\n",
        "\n",
        "\n",
        "\n",
        "\n"
      ],
      "metadata": {
        "id": "ou9DgQTykoTE"
      },
      "execution_count": null,
      "outputs": []
    },
    {
      "cell_type": "code",
      "source": [
        "model.eval()\n",
        "correct = 0\n",
        "total = 0\n",
        "\n",
        "with torch.no_grad():\n",
        "  for images,labels in val_data:\n",
        "    images, labels = images.to(device) , labels.to(device)\n",
        "    outputs = model(images)\n",
        "    preds = outputs.argmax(dim=1)\n",
        "    correct += (preds==labels).sum().item()\n",
        "    total += labels.size(0)\n",
        "  val_acc = 100.0 * correct/total\n",
        "  print(f\"Validation Accuracy: { val_acc:.2f}\")\n",
        "\n"
      ],
      "metadata": {
        "id": "rG4GvEZFmVi3"
      },
      "execution_count": null,
      "outputs": []
    },
    {
      "cell_type": "code",
      "source": [
        "model.eval()\n",
        "images , labels = next(iter(val_data))\n",
        "images, labels = images.to(device) , labels.to(device)\n",
        "\n",
        "with torch.no_grad():\n",
        "  outputs = model(images)\n",
        "  preds = outputs.argmax(dim=1)\n",
        "\n",
        "\n",
        "plt.figure(figsize = (12,4))\n",
        "for i in range(20):\n",
        "  plt.subplot(4,5,i+1)\n",
        "  plt.imshow(images[i].squeeze(),cmap = \"grey\")\n",
        "  plt.title(f\"Pred: {preds[i].item()}\\n True: {labels[i].item()}\")\n",
        "  plt.axis(\"off\")\n",
        "plt.tight_layout()\n",
        "plt.show()"
      ],
      "metadata": {
        "id": "Df1wEk0xnB5c"
      },
      "execution_count": null,
      "outputs": []
    },
    {
      "cell_type": "code",
      "source": [
        "# Manual Checking of Image Transformations in the Vision transformer\n",
        "\n",
        "\n",
        "images , labels= next(iter(val_data))\n",
        "\n",
        "print(f\"Shape of the image data in batch : {images.shape}\")\n",
        "patch_embed = nn.Conv2d(num_channels,embed_dim,kernel_size=patch_size,stride = patch_size)\n",
        "embedded_data = patch_embed(images)\n",
        "embedded_data = embedded_data.flatten(2)\n",
        "embedded_data = embedded_data.transpose(1,2)\n",
        "print(f\"shape of Embedded Data:  {embedded_data.shape}\")\n",
        "print(torch.randn(1,1,embed_dim).shape)"
      ],
      "metadata": {
        "id": "QLOvRNZ8nwtu"
      },
      "execution_count": null,
      "outputs": []
    }
  ]
}